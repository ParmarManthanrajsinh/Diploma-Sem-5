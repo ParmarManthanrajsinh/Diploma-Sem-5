{
 "cells": [
  {
   "cell_type": "code",
   "execution_count": 27,
   "id": "528382c9",
   "metadata": {},
   "outputs": [
    {
     "name": "stdout",
     "output_type": "stream",
     "text": [
      "[[1 2 3 4]\n",
      " [6 7 8 9]]\n",
      "[[1 6]\n",
      " [2 7]\n",
      " [3 8]\n",
      " [4 9]]\n"
     ]
    }
   ],
   "source": [
    "import numpy as np\n",
    "\n",
    "n1 = np.array([1,2,3,4])\n",
    "n2 = np.array([6,7,8,9])\n",
    "\n",
    "# stack in 0 axis (up side)\n",
    "print(np.stack((n1,n2),axis=0))\n",
    "# stack in 1 axis (side by side)\n",
    "print(np.stack((n1,n2),axis=1))"
   ]
  },
  {
   "cell_type": "code",
   "execution_count": 28,
   "id": "69f763fc",
   "metadata": {},
   "outputs": [
    {
     "name": "stdout",
     "output_type": "stream",
     "text": [
      "[array([1, 2]), array([3, 4]), array([5, 6]), array([7, 8]), array([ 9, 10])]\n"
     ]
    }
   ],
   "source": [
    "arr = np.arange(1,11)\n",
    "print(np.split(arr,5))"
   ]
  },
  {
   "cell_type": "code",
   "execution_count": 29,
   "id": "043643d5",
   "metadata": {},
   "outputs": [
    {
     "name": "stdout",
     "output_type": "stream",
     "text": [
      "[ 7  9 11 13]\n",
      "[-5 -5 -5 -5]\n",
      "5.5\n"
     ]
    }
   ],
   "source": [
    "print(np.add(n1,n2))\n",
    "print(np.subtract(n1,n2))\n",
    "print(np.mean(arr))"
   ]
  },
  {
   "cell_type": "code",
   "execution_count": 38,
   "id": "dba7b1be",
   "metadata": {},
   "outputs": [
    {
     "name": "stdout",
     "output_type": "stream",
     "text": [
      "1.4142135623730951\n",
      "2.0\n"
     ]
    }
   ],
   "source": [
    "arr = np.array([1,2,3,4,5])\n",
    "print(np.std(arr))\n",
    "print(np.var(arr))"
   ]
  },
  {
   "cell_type": "code",
   "execution_count": 31,
   "id": "f1dfd1a7",
   "metadata": {},
   "outputs": [
    {
     "name": "stdout",
     "output_type": "stream",
     "text": [
      "3.0\n"
     ]
    }
   ],
   "source": [
    "weight = np.array([50,50,50,50,50])\n",
    "print(np.average(arr,weights=weight))"
   ]
  },
  {
   "cell_type": "code",
   "execution_count": 32,
   "id": "3799ba57",
   "metadata": {},
   "outputs": [
    {
     "name": "stdout",
     "output_type": "stream",
     "text": [
      "   calories  duration\n",
      "0       420       120\n",
      "2       390       234\n"
     ]
    }
   ],
   "source": [
    "import pandas as pd\n",
    "\n",
    "calories = {\"calories\": [420, 380, 390], \"duration\": [120, 809, 234]}\n",
    "\n",
    "df = pd.DataFrame(calories)\n",
    "print(df.loc[[0,2]])"
   ]
  },
  {
   "cell_type": "code",
   "execution_count": 33,
   "id": "970d945e",
   "metadata": {},
   "outputs": [
    {
     "name": "stdout",
     "output_type": "stream",
     "text": [
      "[[1 2]\n",
      " [3 4]]\n"
     ]
    }
   ],
   "source": [
    "arr = np.array([1, 2, 3, 4])\n",
    "reshaped = arr.reshape(2, 2)\n",
    "\n",
    "print(reshaped)"
   ]
  },
  {
   "cell_type": "code",
   "execution_count": 35,
   "id": "555e2b3b",
   "metadata": {},
   "outputs": [
    {
     "name": "stdout",
     "output_type": "stream",
     "text": [
      "0        False\n",
      "1        False\n",
      "2        False\n",
      "3        False\n",
      "4        False\n",
      "         ...  \n",
      "21608    False\n",
      "21609    False\n",
      "21610    False\n",
      "21611    False\n",
      "21612    False\n",
      "Length: 21613, dtype: bool\n"
     ]
    }
   ],
   "source": [
    "data = pd.read_csv(\"kc_house_data.csv\")\n",
    "print(data.duplicated(keep=\"last\"))"
   ]
  },
  {
   "cell_type": "code",
   "execution_count": 48,
   "id": "65acb322",
   "metadata": {},
   "outputs": [
    {
     "data": {
      "image/png": "[encoded data removed]",
      "text/plain": [
       "<Figure size 640x480 with 1 Axes>"
      ]
     },
     "metadata": {},
     "output_type": "display_data"
    }
   ],
   "source": [
    "from matplotlib import pyplot as plt\n",
    "x = ['Rohit', 'Virat', 'Shikhar', 'Gill']\n",
    "y = [45, 89, 13, 54]\n",
    "\n",
    "plt.bar(x, y)\n",
    "plt.xlabel(\"Player\")\n",
    "plt.ylabel(\"Score\")\n",
    "plt.show()\n"
   ]
  }
 ],
 "metadata": {
  "kernelspec": {
   "display_name": "Python 3",
   "language": "python",
   "name": "python3"
  },
  "language_info": {
   "codemirror_mode": {
    "name": "ipython",
    "version": 3
   },
   "file_extension": ".py",
   "mimetype": "text/x-python",
   "name": "python",
   "nbconvert_exporter": "python",
   "pygments_lexer": "ipython3",
   "version": "3.13.0"
  }
 },
 "nbformat": 4,
 "nbformat_minor": 5
}
